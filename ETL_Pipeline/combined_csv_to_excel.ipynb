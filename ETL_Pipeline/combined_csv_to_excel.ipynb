{
 "cells": [
  {
   "cell_type": "code",
   "execution_count": 4,
   "metadata": {},
   "outputs": [],
   "source": [
    "import pandas as pd\n",
    "from pathlib import Path\n",
    "\n",
    "def combine_csv_to_excel(csv_folder, excel_file):\n",
    "    # Get a list of all CSV files in the specified folder\n",
    "    csv_files = list(Path(csv_folder).rglob('*.csv'))\n",
    "\n",
    "    # Create a Pandas Excel writer\n",
    "    excel_writer = pd.ExcelWriter(excel_file, engine='xlsxwriter')\n",
    "\n",
    "    for csv_file in csv_files:\n",
    "        # Read each CSV file into a Pandas DataFrame\n",
    "        df = pd.read_csv(csv_file)\n",
    "\n",
    "        # Extract the filename (excluding extension) as the sheet name\n",
    "        sheet_name = Path(csv_file).stem\n",
    "\n",
    "        # Write the DataFrame to the Excel file\n",
    "        df.to_excel(excel_writer, sheet_name=sheet_name, index=False)\n",
    "\n",
    "    # Save the Excel file\n",
    "    excel_writer.close()\n",
    "\n",
    "if __name__ == \"__main__\":\n",
    "    # Specify the folder containing CSV files\n",
    "    csv_folder = r\"<path contain csv files>\"\n",
    "\n",
    "    # Specify the output Excel file\n",
    "    excel_file = r\"<output paht>\\output.xlsx\"\n",
    "\n",
    "    # Call the function to combine CSV files into Excel\n",
    "    combine_csv_to_excel(csv_folder, excel_file)\n"
   ]
  }
 ],
 "metadata": {
  "kernelspec": {
   "display_name": "Python 3",
   "language": "python",
   "name": "python3"
  },
  "language_info": {
   "codemirror_mode": {
    "name": "ipython",
    "version": 3
   },
   "file_extension": ".py",
   "mimetype": "text/x-python",
   "name": "python",
   "nbconvert_exporter": "python",
   "pygments_lexer": "ipython3",
   "version": "3.11.3"
  }
 },
 "nbformat": 4,
 "nbformat_minor": 2
}
