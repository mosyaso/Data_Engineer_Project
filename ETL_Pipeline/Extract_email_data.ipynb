{
 "cells": [
  {
   "cell_type": "code",
   "execution_count": null,
   "metadata": {},
   "outputs": [],
   "source": [
    "import win32com.client\n",
    "\n",
    "# Create an instance of the Outlook application\n",
    "outlook = win32com.client.Dispatch(\"Outlook.Application\").GetNamespace(\"MAPI\")\n",
    "\n",
    "# Get the Inbox folder\n",
    "inbox = outlook.GetDefaultFolder(6)  # 6 represents the Inbox folder\n",
    "\n",
    "# Specify the email sender's address\n",
    "sender_email = \"sender@example.com\"\n",
    "\n",
    "# Iterate over the items in the Inbox folder\n",
    "for item in inbox.Items:\n",
    "    if item.SenderEmailAddress.lower() == sender_email.lower():\n",
    "        print(\"Subject:\", item.Subject)\n",
    "        print(\"Body:\", item.Body)\n",
    "        print(\"------------------------------\")"
   ]
  },
  {
   "cell_type": "code",
   "execution_count": null,
   "metadata": {},
   "outputs": [],
   "source": [
    "import win32com.client\n",
    "\n",
    "# Create an instance of the Outlook application\n",
    "outlook_app = win32com.client.Dispatch(\"Outlook.Application\")\n",
    "\n",
    "# Get the namespace for accessing Outlook\n",
    "namespace = outlook_app.GetNamespace(\"MAPI\")\n",
    "\n",
    "# Get the inbox folder\n",
    "inbox = namespace.GetDefaultFolder(6)  # 6 corresponds to the Inbox folder\n",
    "\n",
    "# Retrieve all emails from the Inbox folder\n",
    "emails = inbox.Items\n",
    "\n",
    "#Get the specific email based on subject or other criteria\n",
    "email_subject = \"FW: Payment Receipt\"\n",
    "specific_email = None\n",
    "\n",
    "\n",
    "for email in inbox.Items:\n",
    "    if email.Subject == email_subject:\n",
    "        specific_email = email\n",
    "        break\n",
    "\n",
    "# Extract the body of the specific email\n",
    "if specific_email is not None:\n",
    "    email_body = specific_email.Body\n",
    "    print(email_body)\n",
    "else:\n",
    "    print(\"Email not found.\")"
   ]
  },
  {
   "cell_type": "code",
   "execution_count": null,
   "metadata": {},
   "outputs": [],
   "source": [
    "# #create output folder\n",
    "# output_dir = Path.cwd()/\"Email_Output\"\n",
    "# output_dir.mkdir(parents=True, exist_ok=True)\n",
    "\n",
    "# #connect to outlook\n",
    "# outlook = win32com.client.Dispatch(\"Outlook.Application\").GetNamespace(\"MAPI\")\n",
    "\n",
    "# #connect to folder\n",
    "# inbox = outlook.GetDefaultFolder(6)\n",
    "# #https://learn.microsoft.com/en-us/dotnet/api/microsoft.office.interop.outlook.oldefaultfolders?view=outlook-pia\n",
    "\n",
    "# #get messages\n",
    "# messages = inbox.Items\n",
    "\n",
    "# for message in messages:\n",
    "#     subject = message.Subject\n",
    "#     body = message.body\n",
    "#     attachments = message.Attachments\n",
    "\n",
    "#     #create separate folder for each message\n",
    "#     target_folder = output_dir / str(subject)\n",
    "#     target_folder.mkdir(parents=True, exist_ok=True)\n",
    "\n",
    "#     #write body to text file\n",
    "#     Path(target_folder / \"Invoice.txt\").write_text(str(body))\n",
    "\n",
    "#     #save attachment\n",
    "#     for attachment in attachments:\n",
    "#         attachment.SaveAsFile(target_folder / str(attachment))"
   ]
  }
 ],
 "metadata": {
  "kernelspec": {
   "display_name": "Python 3",
   "language": "python",
   "name": "python3"
  },
  "language_info": {
   "codemirror_mode": {
    "name": "ipython",
    "version": 3
   },
   "file_extension": ".py",
   "mimetype": "text/x-python",
   "name": "python",
   "nbconvert_exporter": "python",
   "pygments_lexer": "ipython3",
   "version": "3.11.3"
  },
  "orig_nbformat": 4
 },
 "nbformat": 4,
 "nbformat_minor": 2
}
