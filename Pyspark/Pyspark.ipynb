{
 "cells": [
  {
   "cell_type": "code",
   "execution_count": 1,
   "metadata": {},
   "outputs": [],
   "source": [
    "#pip install pyspark"
   ]
  },
  {
   "cell_type": "markdown",
   "metadata": {},
   "source": [
    "Import Libraries"
   ]
  },
  {
   "cell_type": "code",
   "execution_count": null,
   "metadata": {},
   "outputs": [],
   "source": [
    "from pyspark import SparkContext, SparkConf\n",
    "from pyspark.sql import SparkSession, SQLContext\n",
    "import os"
   ]
  },
  {
   "cell_type": "markdown",
   "metadata": {},
   "source": [
    "Set Java Home"
   ]
  },
  {
   "cell_type": "code",
   "execution_count": 2,
   "metadata": {},
   "outputs": [],
   "source": [
    "# set Java home\n",
    "os.environ[\"JAVA_HOME\"] = \"C:\\Program Files\\Java\\jdk-21\""
   ]
  },
  {
   "cell_type": "markdown",
   "metadata": {},
   "source": [
    "Initiate Spark Context"
   ]
  },
  {
   "cell_type": "code",
   "execution_count": 3,
   "metadata": {},
   "outputs": [],
   "source": [
    "conf = SparkConf() \\\n",
    "    .setAppName(\"Example\") \\\n",
    "    .setMaster(\"local\") \\\n",
    "    .set(\"spark.driver.extraClassPath\",\"C:/pyspark/*\")"
   ]
  },
  {
   "cell_type": "code",
   "execution_count": 4,
   "metadata": {},
   "outputs": [],
   "source": [
    "sc = SparkContext.getOrCreate(conf=conf)\n",
    "spark = SparkSession(sc)"
   ]
  },
  {
   "cell_type": "code",
   "execution_count": 5,
   "metadata": {},
   "outputs": [
    {
     "data": {
      "text/html": [
       "\n",
       "            <div>\n",
       "                <p><b>SparkSession - in-memory</b></p>\n",
       "                \n",
       "        <div>\n",
       "            <p><b>SparkContext</b></p>\n",
       "\n",
       "            <p><a href=\"http://host.docker.internal:4040\">Spark UI</a></p>\n",
       "\n",
       "            <dl>\n",
       "              <dt>Version</dt>\n",
       "                <dd><code>v3.5.0</code></dd>\n",
       "              <dt>Master</dt>\n",
       "                <dd><code>local</code></dd>\n",
       "              <dt>AppName</dt>\n",
       "                <dd><code>Example</code></dd>\n",
       "            </dl>\n",
       "        </div>\n",
       "        \n",
       "            </div>\n",
       "        "
      ],
      "text/plain": [
       "<pyspark.sql.session.SparkSession at 0x2bb1697fa10>"
      ]
     },
     "execution_count": 5,
     "metadata": {},
     "output_type": "execute_result"
    }
   ],
   "source": [
    "spark"
   ]
  },
  {
   "cell_type": "markdown",
   "metadata": {},
   "source": [
    "Read CSV File"
   ]
  },
  {
   "cell_type": "code",
   "execution_count": 7,
   "metadata": {},
   "outputs": [
    {
     "name": "stdout",
     "output_type": "stream",
     "text": [
      "+---------------+------------------+--------------------+--------------+--------------+------+-------------+----------------+-----------+----------+---------+------------+---------+-----------------+--------+---------+-----------------+----------+-------------+---------+\n",
      "|productcategory|productsubcategory|             product| saleterritory|       Country|  City|         Sate|        Customer|   Employee|OrderCount|OrderDate|StandardCost|UnitPrice|UnitPriceDiscount|Discount|ListPrice|SaleswithStandard|  NetSales|OrderQuantity|    Sales|\n",
      "+---------------+------------------+--------------------+--------------+--------------+------+-------------+----------------+-----------+----------+---------+------------+---------+-----------------+--------+---------+-----------------+----------+-------------+---------+\n",
      "|       Clothing|              Caps|        AWC Logo Cap|United Kingdom|United Kingdom| Berks|      England|      Gary Suess|Amy Alberts|         1|  00:00.0|      6.9223|   5.0136|             0.02|  1.4038|   8.6442|          96.9122|-28.125608|           14|68.786592|\n",
      "|    Accessories|             Locks|          Cable Lock|United Kingdom|United Kingdom| Berks|      England|      Gary Suess|Amy Alberts|         1|  00:00.0|     10.3125|       15|                0|       0|       25|           61.875|    28.125|            6|       90|\n",
      "|       Clothing|            Gloves|Full-Finger Glove...|United Kingdom|United Kingdom| Berks|      England|      Gary Suess|Amy Alberts|         1|  00:00.0|     15.6709|   22.794|                0|       0|    37.99|         125.3672|   56.9848|            8|  182.352|\n",
      "|       Clothing|            Gloves|Full-Finger Glove...|United Kingdom|United Kingdom|London|      England|    Linda Martin|Amy Alberts|         1|  00:00.0|     15.6709|  20.8945|             0.05| 16.7156|    37.99|         250.7344|    66.862|           16| 317.5964|\n",
      "|       Clothing|            Gloves|Full-Finger Glove...|United Kingdom|United Kingdom| Berks|      England|      Gary Suess|Amy Alberts|         1|  00:00.0|     15.6709|   22.794|                0|       0|    37.99|         109.6963|   49.8617|            7|  159.558|\n",
      "|       Clothing|            Gloves|Full-Finger Glove...|United Kingdom|United Kingdom|London|      England|    Linda Martin|Amy Alberts|         1|  00:00.0|     15.6709|   22.794|                0|       0|    37.99|          31.3418|   14.2462|            2|   45.588|\n",
      "|       Clothing|            Gloves|Full-Finger Glove...|United Kingdom|United Kingdom| Berks|      England|      Gary Suess|Amy Alberts|         1|  00:00.0|     15.6709|   22.794|                0|       0|    37.99|          15.6709|    7.1231|            1|   22.794|\n",
      "|       Clothing|            Gloves|Full-Finger Glove...|United Kingdom|United Kingdom|London|      England|    Linda Martin|Amy Alberts|         1|  00:00.0|     15.6709|   22.794|                0|       0|    37.99|          15.6709|    7.1231|            1|   22.794|\n",
      "|       Clothing|            Gloves|Half-Finger Glove...|United Kingdom|United Kingdom| Berks|      England|      Gary Suess|Amy Alberts|         1|  00:00.0|      9.1593|  14.1289|                0|       0|  23.5481|          27.4779|   14.9088|            3|  42.3867|\n",
      "|       Clothing|            Gloves|Half-Finger Glove...|United Kingdom|United Kingdom| Berks|      England|      Gary Suess|Amy Alberts|         1|  00:00.0|      9.1593|  14.1289|                0|       0|  23.5481|          73.2744|   39.7568|            8| 113.0312|\n",
      "|       Clothing|            Gloves|Half-Finger Glove...|United Kingdom|United Kingdom| Berks|      England|      Gary Suess|Amy Alberts|         1|  00:00.0|      9.1593|  14.1289|                0|       0|  23.5481|          27.4779|   14.9088|            3|  42.3867|\n",
      "|     Components|             Forks|             HL Fork|United Kingdom|United Kingdom| Berks|      England|      Gary Suess|Amy Alberts|         1|  00:00.0|    101.8936|  137.694|                0|       0|   229.49|         611.3616|  214.8024|            6|  826.164|\n",
      "|     Components|          Headsets|          HL Headset|United Kingdom|United Kingdom| Berks|      England|      Gary Suess|Amy Alberts|         1|  00:00.0|     55.3801|   74.838|                0|       0|   124.73|         110.7602|   38.9158|            2|  149.676|\n",
      "|     Components|   Mountain Frames|HL Mountain Frame...|United Kingdom|United Kingdom| Berks|      England|      Gary Suess|Amy Alberts|         1|  00:00.0|     739.041| 736.1455|                0|       0|1226.9091|         1478.082|    -5.791|            2| 1472.291|\n",
      "|     Components|   Mountain Frames|HL Mountain Frame...|United Kingdom|United Kingdom| Berks|      England|      Gary Suess|Amy Alberts|         1|  00:00.0|     739.041| 736.1455|                0|       0|1226.9091|          739.041|   -2.8955|            1| 736.1455|\n",
      "|     Components|   Mountain Frames|HL Mountain Frame...|United Kingdom|United Kingdom| Berks|      England|      Gary Suess|Amy Alberts|         1|  00:00.0|    747.2002| 744.2727|                0|       0|1240.4545|         747.2002|   -2.9275|            1| 744.2727|\n",
      "|     Components|   Mountain Frames|HL Mountain Frame...|United Kingdom|United Kingdom| Berks|      England|      Gary Suess|Amy Alberts|         1|  00:00.0|    747.2002| 744.2727|                0|       0|1240.4545|        4483.2012|   -17.565|            6|4465.6362|\n",
      "|     Components|   Mountain Frames|HL Mountain Frame...|United Kingdom|United Kingdom| Berks|      England|      Gary Suess|Amy Alberts|         1|  00:00.0|    747.2002| 744.2727|                0|       0|1240.4545|        2241.6006|   -8.7825|            3|2232.8181|\n",
      "|     Components|            Wheels|HL Mountain Front...|United Kingdom|United Kingdom| Berks|      England|      Gary Suess|Amy Alberts|         1|  00:00.0|    133.2955|  180.129|                0|       0|  300.215|          266.591|    93.667|            2|  360.258|\n",
      "|     Components|        Handlebars|HL Mountain Handl...|        France|        France| Paris|Seine (Paris)|Ty Loren Carlson|Amy Alberts|         1|  00:00.0|     53.3999|  65.6018|                0|       0| 109.3364|          53.3999|   12.2019|            1|  65.6018|\n",
      "+---------------+------------------+--------------------+--------------+--------------+------+-------------+----------------+-----------+----------+---------+------------+---------+-----------------+--------+---------+-----------------+----------+-------------+---------+\n",
      "only showing top 20 rows\n",
      "\n"
     ]
    }
   ],
   "source": [
    "df=spark.read.options(delimiter=\",\", header=True).csv(r\"C:\\Users\\syakir1937\\Task Scheduler\\Learn Programming\\AdvWorksData.csv\")\n",
    "df.show()"
   ]
  },
  {
   "cell_type": "code",
   "execution_count": 8,
   "metadata": {},
   "outputs": [
    {
     "name": "stdout",
     "output_type": "stream",
     "text": [
      "root\n",
      " |-- productcategory: string (nullable = true)\n",
      " |-- productsubcategory: string (nullable = true)\n",
      " |-- product: string (nullable = true)\n",
      " |-- saleterritory: string (nullable = true)\n",
      " |-- Country: string (nullable = true)\n",
      " |-- City: string (nullable = true)\n",
      " |-- Sate: string (nullable = true)\n",
      " |-- Customer: string (nullable = true)\n",
      " |-- Employee: string (nullable = true)\n",
      " |-- OrderCount: string (nullable = true)\n",
      " |-- OrderDate: string (nullable = true)\n",
      " |-- StandardCost: string (nullable = true)\n",
      " |-- UnitPrice: string (nullable = true)\n",
      " |-- UnitPriceDiscount: string (nullable = true)\n",
      " |-- Discount: string (nullable = true)\n",
      " |-- ListPrice: string (nullable = true)\n",
      " |-- SaleswithStandard: string (nullable = true)\n",
      " |-- NetSales: string (nullable = true)\n",
      " |-- OrderQuantity: string (nullable = true)\n",
      " |-- Sales: string (nullable = true)\n",
      "\n"
     ]
    }
   ],
   "source": [
    "df.printSchema()"
   ]
  },
  {
   "cell_type": "markdown",
   "metadata": {},
   "source": [
    "Common dataframe actions"
   ]
  },
  {
   "cell_type": "code",
   "execution_count": 9,
   "metadata": {},
   "outputs": [
    {
     "name": "stdout",
     "output_type": "stream",
     "text": [
      "+---------------+------------------+------------------------------+-------------+-------+--------+--------------+----------------+-----------+----------+---------+------------+---------+-----------------+--------+---------+-----------------+--------+-------------+---------+\n",
      "|productcategory|productsubcategory|product                       |saleterritory|Country|City    |Sate          |Customer        |Employee   |OrderCount|OrderDate|StandardCost|UnitPrice|UnitPriceDiscount|Discount|ListPrice|SaleswithStandard|NetSales|OrderQuantity|Sales    |\n",
      "+---------------+------------------+------------------------------+-------------+-------+--------+--------------+----------------+-----------+----------+---------+------------+---------+-----------------+--------+---------+-----------------+--------+-------------+---------+\n",
      "|Components     |Handlebars        |HL Mountain Handlebars        |France       |France |Paris   |Seine (Paris) |Ty Loren Carlson|Amy Alberts|1         |00:00.0  |53.3999     |65.6018  |0                |0       |109.3364 |53.3999          |12.2019 |1            |65.6018  |\n",
      "|Clothing       |Gloves            |Full-Finger Gloves, L         |France       |France |Suresnes|Hauts de Seine|Mindy Martin    |Amy Alberts|1         |00:00.0  |15.6709     |22.794   |0                |0       |37.99    |47.0127          |21.3693 |3            |68.382   |\n",
      "|Clothing       |Gloves            |Full-Finger Gloves, S         |France       |France |Suresnes|Hauts de Seine|Mindy Martin    |Amy Alberts|1         |00:00.0  |15.6709     |22.794   |0                |0       |37.99    |15.6709          |7.1231  |1            |22.794   |\n",
      "|Bikes          |Mountain Bikes    |Mountain-200 Black, 38        |France       |France |Suresnes|Hauts de Seine|Mindy Martin    |Amy Alberts|1         |00:00.0  |1251.9813   |1229.4589|0                |0       |2049.0982|3755.9439        |-67.5672|3            |3688.3767|\n",
      "|Bikes          |Mountain Bikes    |Mountain-200 Black, 42        |France       |France |Suresnes|Hauts de Seine|Mindy Martin    |Amy Alberts|1         |00:00.0  |1251.9813   |1229.4589|0                |0       |2049.0982|2503.9626        |-45.0448|2            |2458.9178|\n",
      "|Bikes          |Mountain Bikes    |Mountain-200 Silver, 42       |France       |France |Suresnes|Hauts de Seine|Mindy Martin    |Amy Alberts|1         |00:00.0  |1265.6195   |1242.8518|0                |0       |2071.4196|2531.239         |-45.5354|2            |2485.7036|\n",
      "|Clothing       |Gloves            |Full-Finger Gloves, L         |France       |France |Orly    |Val de Marne  |Raman Iyer      |Amy Alberts|1         |00:00.0  |15.6709     |22.794   |0                |0       |37.99    |31.3418          |14.2462 |2            |45.588   |\n",
      "|Clothing       |Gloves            |Full-Finger Gloves, M         |France       |France |Orly    |Val de Marne  |Raman Iyer      |Amy Alberts|1         |00:00.0  |15.6709     |22.794   |0                |0       |37.99    |47.0127          |21.3693 |3            |68.382   |\n",
      "|Components     |Headsets          |HL Headset                    |France       |France |Cergy   |Val d'Oise    |James Glynn     |Amy Alberts|1         |00:00.0  |55.3801     |74.838   |0                |0       |124.73   |276.9005         |97.2895 |5            |374.19   |\n",
      "|Components     |Mountain Frames   |HL Mountain Frame - Black, 38 |France       |France |Cergy   |Val d'Oise    |James Glynn     |Amy Alberts|1         |00:00.0  |739.041     |736.1455 |0                |0       |1226.9091|2217.123         |-8.6865 |3            |2208.4365|\n",
      "|Components     |Mountain Frames   |HL Mountain Frame - Black, 42 |France       |France |Cergy   |Val d'Oise    |James Glynn     |Amy Alberts|1         |00:00.0  |739.041     |736.1455 |0                |0       |1226.9091|739.041          |-2.8955 |1            |736.1455 |\n",
      "|Components     |Mountain Frames   |HL Mountain Frame - Silver, 46|France       |France |Cergy   |Val d'Oise    |James Glynn     |Amy Alberts|1         |00:00.0  |747.2002    |744.2727 |0                |0       |1240.4545|1494.4004        |-5.855  |2            |1488.5454|\n",
      "|Clothing       |Jerseys           |Long-Sleeve Logo Jersey, XL   |France       |France |Cergy   |Val d'Oise    |James Glynn     |Amy Alberts|1         |00:00.0  |38.4923     |28.8404  |0                |0       |48.0673  |230.9538         |-57.9114|6            |173.0424 |\n",
      "|Clothing       |Bib-Shorts        |Men's Bib-Shorts, S           |France       |France |Cergy   |Val d'Oise    |James Glynn     |Amy Alberts|1         |00:00.0  |37.1209     |53.994   |0                |0       |89.99    |74.2418          |33.7462 |2            |107.988  |\n",
      "|Clothing       |Shorts            |Men's Sports Shorts, S        |France       |France |Cergy   |Val d'Oise    |James Glynn     |Amy Alberts|1         |00:00.0  |24.7459     |35.994   |0                |0       |59.99    |98.9836          |44.9924 |4            |143.976  |\n",
      "|Components     |Mountain Frames   |ML Mountain Frame - Black, 38 |France       |France |Cergy   |Val d'Oise    |James Glynn     |Amy Alberts|1         |00:00.0  |185.8193    |209.256  |0                |0       |348.76   |371.6386         |46.8734 |2            |418.512  |\n",
      "|Bikes          |Mountain Bikes    |Mountain-200 Black, 38        |France       |France |Orly    |Val de Marne  |Raman Iyer      |Amy Alberts|1         |00:00.0  |1251.9813   |1229.4589|0                |0       |2049.0982|2503.9626        |-45.0448|2            |2458.9178|\n",
      "|Bikes          |Mountain Bikes    |Mountain-200 Black, 42        |France       |France |Cergy   |Val d'Oise    |James Glynn     |Amy Alberts|1         |00:00.0  |1251.9813   |1229.4589|0                |0       |2049.0982|1251.9813        |-22.5224|1            |1229.4589|\n",
      "|Bikes          |Mountain Bikes    |Mountain-200 Black, 42        |France       |France |Orly    |Val de Marne  |Raman Iyer      |Amy Alberts|1         |00:00.0  |1251.9813   |1229.4589|0                |0       |2049.0982|2503.9626        |-45.0448|2            |2458.9178|\n",
      "|Bikes          |Mountain Bikes    |Mountain-200 Black, 46        |France       |France |Cergy   |Val d'Oise    |James Glynn     |Amy Alberts|1         |00:00.0  |1251.9813   |1229.4589|0                |0       |2049.0982|2503.9626        |-45.0448|2            |2458.9178|\n",
      "+---------------+------------------+------------------------------+-------------+-------+--------+--------------+----------------+-----------+----------+---------+------------+---------+-----------------+--------+---------+-----------------+--------+-------------+---------+\n",
      "only showing top 20 rows\n",
      "\n"
     ]
    }
   ],
   "source": [
    "france = df.filter(df.saleterritory == \"France\").show(truncate=False)"
   ]
  },
  {
   "cell_type": "code",
   "execution_count": 10,
   "metadata": {},
   "outputs": [
    {
     "name": "stdout",
     "output_type": "stream",
     "text": [
      "+---------------+--------------+---------+---------+\n",
      "|productcategory| saleterritory|OrderDate|    Sales|\n",
      "+---------------+--------------+---------+---------+\n",
      "|       Clothing|United Kingdom|  00:00.0|68.786592|\n",
      "|    Accessories|United Kingdom|  00:00.0|       90|\n",
      "|       Clothing|United Kingdom|  00:00.0|  182.352|\n",
      "|       Clothing|United Kingdom|  00:00.0| 317.5964|\n",
      "|       Clothing|United Kingdom|  00:00.0|  159.558|\n",
      "|       Clothing|United Kingdom|  00:00.0|   45.588|\n",
      "|       Clothing|United Kingdom|  00:00.0|   22.794|\n",
      "|       Clothing|United Kingdom|  00:00.0|   22.794|\n",
      "|       Clothing|United Kingdom|  00:00.0|  42.3867|\n",
      "|       Clothing|United Kingdom|  00:00.0| 113.0312|\n",
      "|       Clothing|United Kingdom|  00:00.0|  42.3867|\n",
      "|     Components|United Kingdom|  00:00.0|  826.164|\n",
      "|     Components|United Kingdom|  00:00.0|  149.676|\n",
      "|     Components|United Kingdom|  00:00.0| 1472.291|\n",
      "|     Components|United Kingdom|  00:00.0| 736.1455|\n",
      "|     Components|United Kingdom|  00:00.0| 744.2727|\n",
      "|     Components|United Kingdom|  00:00.0|4465.6362|\n",
      "|     Components|United Kingdom|  00:00.0|2232.8181|\n",
      "|     Components|United Kingdom|  00:00.0|  360.258|\n",
      "|     Components|        France|  00:00.0|  65.6018|\n",
      "+---------------+--------------+---------+---------+\n",
      "only showing top 20 rows\n",
      "\n"
     ]
    }
   ],
   "source": [
    "df1 = df[['productcategory','saleterritory','OrderDate','Sales']]\n",
    "df1.show()"
   ]
  },
  {
   "cell_type": "code",
   "execution_count": 11,
   "metadata": {},
   "outputs": [
    {
     "name": "stdout",
     "output_type": "stream",
     "text": [
      "+--------------+-----+\n",
      "| saleterritory|count|\n",
      "+--------------+-----+\n",
      "|       Germany| 1864|\n",
      "|        France| 3530|\n",
      "|     Northwest| 7872|\n",
      "|     Southeast| 5937|\n",
      "|       Central| 5812|\n",
      "|        Canada|11444|\n",
      "|     Southwest|13379|\n",
      "|     Australia| 1713|\n",
      "|United Kingdom| 3520|\n",
      "|     Northeast| 5809|\n",
      "+--------------+-----+\n",
      "\n",
      "None\n"
     ]
    }
   ],
   "source": [
    "saleterritory = df.groupBy('saleterritory').count()\n",
    "print(saleterritory.show())"
   ]
  },
  {
   "cell_type": "markdown",
   "metadata": {},
   "source": [
    "Use Spark SQL to query data"
   ]
  },
  {
   "cell_type": "code",
   "execution_count": 12,
   "metadata": {},
   "outputs": [
    {
     "name": "stdout",
     "output_type": "stream",
     "text": [
      "+---------------+------------------+------------+--------------+--------------+------------+------------+----------------+--------------+----------+---------+------------+---------+-----------------+--------+---------+-----------------+----------+-------------+---------+\n",
      "|productcategory|productsubcategory|     product| saleterritory|       Country|        City|        Sate|        Customer|      Employee|OrderCount|OrderDate|StandardCost|UnitPrice|UnitPriceDiscount|Discount|ListPrice|SaleswithStandard|  NetSales|OrderQuantity|    Sales|\n",
      "+---------------+------------------+------------+--------------+--------------+------------+------------+----------------+--------------+----------+---------+------------+---------+-----------------+--------+---------+-----------------+----------+-------------+---------+\n",
      "|       Clothing|              Caps|AWC Logo Cap|United Kingdom|United Kingdom|       Berks|     England|      Gary Suess|   Amy Alberts|         1|  00:00.0|      6.9223|   5.0136|             0.02|  1.4038|   8.6442|          96.9122|-28.125608|           14|68.786592|\n",
      "|       Clothing|              Caps|AWC Logo Cap|United Kingdom|United Kingdom|      London|     England| Stefano Stefani|   Amy Alberts|         1|  00:00.0|      6.9223|   5.1865|                0|       0|   8.6442|          13.8446|   -3.4716|            2|   10.373|\n",
      "|       Clothing|              Caps|AWC Logo Cap|United Kingdom|United Kingdom|   Bracknell|     England| Gustavo Camargo|   Amy Alberts|         1|  00:00.0|      6.9223|   5.1865|                0|       0|   8.6442|          34.6115|    -8.679|            5|  25.9325|\n",
      "|       Clothing|              Caps|AWC Logo Cap|United Kingdom|United Kingdom|      London|     England|Christopher Beck|   Amy Alberts|         1|  00:00.0|      6.9223|   5.1865|                0|       0|   8.6442|          27.6892|   -6.9432|            4|   20.746|\n",
      "|       Clothing|              Caps|AWC Logo Cap|        France|        France|       Croix|        Nord|     Parul Manek|   Amy Alberts|         1|  00:00.0|      6.9223|    5.394|                0|       0|     8.99|          13.8446|   -3.0566|            2|   10.788|\n",
      "|       Clothing|              Caps|AWC Logo Cap|       Germany|       Germany|Grevenbroich|      Bayern|  Stephen Burton|   Amy Alberts|         1|  00:00.0|      6.9223|   5.2142|             0.02|  1.2514|     8.99|          83.0676|-21.748608|           12|61.318992|\n",
      "|       Clothing|              Caps|AWC Logo Cap|        France|        France|        Orly|Val de Marne|      Raman Iyer|   Amy Alberts|         1|  00:00.0|      6.9223|    5.394|                0|       0|     8.99|          20.7669|   -4.5849|            3|   16.182|\n",
      "|       Clothing|              Caps|AWC Logo Cap|United Kingdom|United Kingdom|    Woolston|     England| Terry Eminhizer|   Amy Alberts|         1|  00:00.0|      6.9223|    5.394|                0|       0|     8.99|          55.3784|  -12.2264|            8|   43.152|\n",
      "|       Clothing|              Caps|AWC Logo Cap|     Northwest| United States|      Casper|     Wyoming|Fran�ois Ferrier|David Campbell|         1|  00:00.0|      6.9223|   5.1865|                0|       0|   8.6442|          20.7669|   -5.2074|            3|  15.5595|\n",
      "|       Clothing|              Caps|AWC Logo Cap|     Northwest| United States|     Seattle|  Washington|  Richard Bready|David Campbell|         1|  00:00.0|      6.9223|   5.1865|                0|       0|   8.6442|          13.8446|   -3.4716|            2|   10.373|\n",
      "|       Clothing|              Caps|AWC Logo Cap|     Northwest| United States|    Longview|  Washington|   David Johnson|David Campbell|         1|  00:00.0|      6.9223|   5.1865|                0|       0|   8.6442|          27.6892|   -6.9432|            4|   20.746|\n",
      "|       Clothing|              Caps|AWC Logo Cap|     Northwest| United States|     Seattle|  Washington|  Richard Bready|David Campbell|         1|  00:00.0|      6.9223|   5.1865|                0|       0|   8.6442|           6.9223|   -1.7358|            1|   5.1865|\n",
      "|       Clothing|              Caps|AWC Logo Cap|     Northwest| United States|    Longview|  Washington|   David Johnson|David Campbell|         1|  00:00.0|      6.9223|   5.1865|                0|       0|   8.6442|          20.7669|   -5.2074|            3|  15.5595|\n",
      "|       Clothing|              Caps|AWC Logo Cap|     Northwest| United States|      Casper|     Wyoming|Fran�ois Ferrier|David Campbell|         1|  00:00.0|      6.9223|   5.1865|                0|       0|   8.6442|           6.9223|   -1.7358|            1|   5.1865|\n",
      "|       Clothing|              Caps|AWC Logo Cap|     Northwest| United States|     Seattle|  Washington|  Richard Bready|David Campbell|         1|  00:00.0|      6.9223|   5.1865|                0|       0|   8.6442|           6.9223|   -1.7358|            1|   5.1865|\n",
      "|       Clothing|              Caps|AWC Logo Cap|     Northwest| United States|    Longview|  Washington|   David Johnson|David Campbell|         1|  00:00.0|      6.9223|   5.1865|                0|       0|   8.6442|          34.6115|    -8.679|            5|  25.9325|\n",
      "|       Clothing|              Caps|AWC Logo Cap|     Northwest| United States|     Seattle|  Washington|  Richard Bready|David Campbell|         1|  00:00.0|      6.9223|   5.1865|                0|       0|   8.6442|          13.8446|   -3.4716|            2|   10.373|\n",
      "|       Clothing|              Caps|AWC Logo Cap|     Northwest| United States|    Longview|  Washington|   David Johnson|David Campbell|         1|  00:00.0|      6.9223|   5.1865|                0|       0|   8.6442|          27.6892|   -6.9432|            4|   20.746|\n",
      "|       Clothing|              Caps|AWC Logo Cap|     Northwest| United States|      Tacoma|  Washington|    Henry Campen|David Campbell|         1|  00:00.0|      6.9223|   5.1865|                0|       0|   8.6442|          13.8446|   -3.4716|            2|   10.373|\n",
      "|       Clothing|              Caps|AWC Logo Cap|     Northwest| United States|        Kent|  Washington|    Jean Handley|David Campbell|         1|  00:00.0|      6.9223|   5.1865|                0|       0|   8.6442|           6.9223|   -1.7358|            1|   5.1865|\n",
      "+---------------+------------------+------------+--------------+--------------+------------+------------+----------------+--------------+----------+---------+------------+---------+-----------------+--------+---------+-----------------+----------+-------------+---------+\n",
      "only showing top 20 rows\n",
      "\n"
     ]
    }
   ],
   "source": [
    "df.createOrReplaceTempView(\"sales\")\n",
    "output =  spark.sql(\"SELECT * from sales where productsubcategory='Caps'\")\n",
    "output.show()"
   ]
  },
  {
   "cell_type": "code",
   "execution_count": 13,
   "metadata": {},
   "outputs": [
    {
     "name": "stdout",
     "output_type": "stream",
     "text": [
      "+---------------+------------------+--------------------+--------------+--------------+-------------+----------+--------------------+--------------+----------+---------+------------+---------+-----------------+--------+---------+-----------------+------------+-------------+-----------+\n",
      "|productcategory|productsubcategory|             product| saleterritory|       Country|         City|      Sate|            Customer|      Employee|OrderCount|OrderDate|StandardCost|UnitPrice|UnitPriceDiscount|Discount|ListPrice|SaleswithStandard|    NetSales|OrderQuantity|      Sales|\n",
      "+---------------+------------------+--------------------+--------------+--------------+-------------+----------+--------------------+--------------+----------+---------+------------+---------+-----------------+--------+---------+-----------------+------------+-------------+-----------+\n",
      "|       Clothing|           Jerseys|Long-Sleeve Logo ...|United Kingdom|United Kingdom|        Berks|   England|          Gary Suess|   Amy Alberts|         1|  00:00.0|     38.4923|   27.879|             0.02|  7.8061|  48.0673|         538.8922|  -156.39232|           14|  382.49988|\n",
      "|       Clothing|            Tights|   Women's Tights, L|United Kingdom|United Kingdom|        Berks|   England|          Gary Suess|   Amy Alberts|         1|  00:00.0|     30.9334|  43.4942|             0.02| 11.3085|    74.99|         402.1342|  151.981908|           13| 554.116108|\n",
      "|       Clothing|            Tights|   Women's Tights, S|United Kingdom|United Kingdom|        Berks|   England|          Gary Suess|   Amy Alberts|         1|  00:00.0|     30.9334|  43.4942|             0.02| 11.3085|    74.99|         402.1342|  151.981908|           13| 554.116108|\n",
      "|       Clothing|             Vests|     Classic Vest, M|       Germany|       Germany| Grevenbroich|    Bayern|      Stephen Burton|   Amy Alberts|         1|  00:00.0|      23.749|   34.925|             0.05| 31.4325|     63.5|          427.482|    169.7355|           18|   597.2175|\n",
      "|       Clothing|             Vests|     Classic Vest, S|       Germany|       Germany| Grevenbroich|    Bayern|      Stephen Burton|   Amy Alberts|         1|  00:00.0|      23.749|   34.925|             0.05| 26.1938|     63.5|          356.235|   141.44625|           15|  497.68125|\n",
      "|    Accessories|        Bike Racks| Hitch Rack - 4-Bike|       Germany|       Germany| Grevenbroich|    Bayern|      Stephen Burton|   Amy Alberts|         1|  00:00.0|       44.88|       66|             0.05|    52.8|      120|           718.08|      285.12|           16|     1003.2|\n",
      "|     Components|    Touring Frames|HL Touring Frame ...|       Germany|       Germany| Grevenbroich|    Bayern|      Stephen Burton|   Amy Alberts|         1|  00:00.0|    601.7437|  602.346|                0|       0|  1003.91|         6017.437|       6.023|           10|    6023.46|\n",
      "|       Clothing|           Jerseys|Long-Sleeve Logo ...|       Germany|       Germany| Grevenbroich|    Bayern|      Stephen Burton|   Amy Alberts|         1|  00:00.0|     38.4923|  27.4945|             0.05| 20.6209|    49.99|         577.3845| -185.587875|           15| 391.796625|\n",
      "|       Clothing|           Jerseys|Short-Sleeve Clas...|       Germany|       Germany| Grevenbroich|    Bayern|      Stephen Burton|   Amy Alberts|         1|  00:00.0|     41.5723|  31.3142|             0.02|  7.5154|    53.99|         498.8676| -130.612608|           12| 368.254992|\n",
      "|       Clothing|           Jerseys|Short-Sleeve Clas...|       Germany|       Germany| Grevenbroich|    Bayern|      Stephen Burton|   Amy Alberts|         1|  00:00.0|     41.5723|   32.394|                0|       0|    53.99|          415.723|     -91.783|           10|     323.94|\n",
      "|          Bikes|     Touring Bikes|Touring-1000 Blue...|       Germany|       Germany| Grevenbroich|    Bayern|      Stephen Burton|   Amy Alberts|         1|  00:00.0|   1481.9379|1382.7606|             0.02|359.5178|  2384.07|       19265.1927|-1648.822656|           13|17616.37004|\n",
      "|          Bikes|     Touring Bikes|Touring-3000 Yell...|       Germany|       Germany| Grevenbroich|    Bayern|      Stephen Burton|   Amy Alberts|         1|  00:00.0|    461.4448| 334.0575|             0.15|551.1949|   742.35|        5075.8928|-1952.455175|           11|3123.437625|\n",
      "|       Clothing|            Shorts|Women's Mountain ...|United Kingdom|United Kingdom|Milton Keynes|   England|         Pamala Kotc|   Amy Alberts|         1|  00:00.0|     26.1763|  38.4945|             0.05| 32.7203|    69.99|         444.9971|  176.689075|           17| 621.686175|\n",
      "|    Accessories|   Hydration Packs|Hydration Pack - ...|United Kingdom|United Kingdom|     Woolston|   England|     Terry Eminhizer|   Amy Alberts|         1|  00:00.0|     20.5663|   32.994|                0|       0|    54.99|          205.663|     124.277|           10|     329.94|\n",
      "|     Components|   Mountain Frames|ML Mountain Frame...|United Kingdom|United Kingdom|       London|   England|Krishna Sunkammurali|   Amy Alberts|         1|  00:00.0|    199.3757| 211.1722|             0.02| 54.9048|   364.09|        2591.8841|   98.449728|           13|2690.333828|\n",
      "|       Clothing|           Jerseys|Short-Sleeve Clas...|United Kingdom|United Kingdom|     Woolston|   England|     Terry Eminhizer|   Amy Alberts|         1|  00:00.0|     41.5723|  31.3142|             0.02|  6.8891|    53.99|         457.2953| -119.728224|           11| 337.567076|\n",
      "|       Clothing|           Jerseys|Short-Sleeve Clas...|United Kingdom|United Kingdom|     Woolston|   England|     Terry Eminhizer|   Amy Alberts|         1|  00:00.0|     41.5723|  31.3142|             0.02|  6.8891|    53.99|         457.2953| -119.728224|           11| 337.567076|\n",
      "|          Bikes|    Mountain Bikes|Mountain-100 Blac...|     Northwest| United States|      Seattle|Washington|      Richard Bready|David Campbell|         1|  00:00.0|   1898.0944| 2024.994|                0|       0|  3374.99|        18980.944|    1268.996|           10|   20249.94|\n",
      "|     Components|       Road Frames|LL Road Frame - R...|     Northwest| United States|   Bellingham|Washington|          Scott Culp|David Campbell|         1|  00:00.0|    187.1571| 195.5876|             0.02| 43.0293|   337.22|        2058.7281|   49.706228|           11|2108.434328|\n",
      "|          Bikes|    Mountain Bikes|Mountain-200 Blac...|     Northwest| United States|      Seattle|Washington|      Richard Bready|David Campbell|         1|  00:00.0|   1251.9813|1229.4589|                0|       0|2049.0982|        12519.813|    -225.224|           10|  12294.589|\n",
      "+---------------+------------------+--------------------+--------------+--------------+-------------+----------+--------------------+--------------+----------+---------+------------+---------+-----------------+--------+---------+-----------------+------------+-------------+-----------+\n",
      "only showing top 20 rows\n",
      "\n"
     ]
    }
   ],
   "source": [
    "output = spark.sql('SELECT * from sales WHERE `UnitPrice` > 20 AND OrderQuantity >= 10')\n",
    "output.show()"
   ]
  },
  {
   "cell_type": "code",
   "execution_count": 14,
   "metadata": {},
   "outputs": [
    {
     "name": "stdout",
     "output_type": "stream",
     "text": [
      "+-----+---------------+\n",
      "|total|productcategory|\n",
      "+-----+---------------+\n",
      "|24800|          Bikes|\n",
      "|12260|       Clothing|\n",
      "| 5098|    Accessories|\n",
      "|18683|     Components|\n",
      "|   39|           NULL|\n",
      "+-----+---------------+\n",
      "\n"
     ]
    }
   ],
   "source": [
    "output = spark.sql('SELECT COUNT(*) as total, productcategory from sales GROUP BY productcategory')\n",
    "output.show()"
   ]
  },
  {
   "cell_type": "markdown",
   "metadata": {},
   "source": [
    "Persist data to database"
   ]
  },
  {
   "cell_type": "code",
   "execution_count": 15,
   "metadata": {},
   "outputs": [],
   "source": [
    "dest_tbl = 'public.\"pyspark_sales_table\"'\n",
    "database = \"AdventureWorks\"\n",
    "password = \"demopass\"#os.environ['PGPASS']\n",
    "user = \"etl\"#os.environ['PGUID']"
   ]
  },
  {
   "cell_type": "code",
   "execution_count": null,
   "metadata": {},
   "outputs": [],
   "source": [
    "df.write.mode(\"overwrite\") \\\n",
    "    .format(\"jdbc\") \\\n",
    "    .option(\"url\", f\"jdbc:postgresql://localhost:5432/{database}\") \\\n",
    "    .option(\"dbtable\", dest_tbl) \\\n",
    "    .option(\"user\", user) \\\n",
    "    .option(\"password\", password) \\\n",
    "    .option(\"driver\",  \"org.postgresql.Driver\") \\\n",
    "    .save()"
   ]
  }
 ],
 "metadata": {
  "kernelspec": {
   "display_name": "Python 3",
   "language": "python",
   "name": "python3"
  },
  "language_info": {
   "codemirror_mode": {
    "name": "ipython",
    "version": 3
   },
   "file_extension": ".py",
   "mimetype": "text/x-python",
   "name": "python",
   "nbconvert_exporter": "python",
   "pygments_lexer": "ipython3",
   "version": "3.11.3"
  },
  "orig_nbformat": 4
 },
 "nbformat": 4,
 "nbformat_minor": 2
}
