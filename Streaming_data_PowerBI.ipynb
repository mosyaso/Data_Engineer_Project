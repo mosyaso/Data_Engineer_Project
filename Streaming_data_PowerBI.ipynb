{
 "cells": [
  {
   "cell_type": "code",
   "execution_count": null,
   "metadata": {},
   "outputs": [],
   "source": [
    "import requests\n",
    "from datetime import datetime\n",
    "import time\n",
    "import psutil\n",
    "import json\n",
    "\n",
    "DEVICE = 'MyPC'\n",
    "\n",
    "while True:\n",
    "    now = datetime.strftime(datetime.utcnow(), \"%Y-%m-%dT%H:%M:%S%Z\")\n",
    "    json_data = [{\n",
    "        \"computerName\": DEVICE,\n",
    "        \"timestamp\": now,\n",
    "        \"cpuPercentage\": psutil.cpu_percent(),\n",
    "        \"memoryAvailable\": psutil.virtual_memory().available,\n",
    "        \"memoryCommitted\": psutil.virtual_memory().used\n",
    "    }]\n",
    "    res = requests.post('https://api.powerbi.com/beta/805b860b-a33a-4e2f-ac69-e9b1c553eff5/datasets/c5c27330-e901-442e-b0eb-c8d10b130a9b/rows?experience=power-bi&key=%2Bc1fdMibdxY6%2FwHxI72cA%2Fm4dgOBs11Gv193MxtOrXzXCfd5Lc0HmdZMg4duXxlXy%2Bzed58gq8%2B49Z%2BejT9P9w%3D%3D', data=json.dumps(json_data))\n",
    "    print(res.status_code)\n",
    "    time.sleep(5)"
   ]
  }
 ],
 "metadata": {
  "kernelspec": {
   "display_name": "Python 3",
   "language": "python",
   "name": "python3"
  },
  "language_info": {
   "codemirror_mode": {
    "name": "ipython",
    "version": 3
   },
   "file_extension": ".py",
   "mimetype": "text/x-python",
   "name": "python",
   "nbconvert_exporter": "python",
   "pygments_lexer": "ipython3",
   "version": "3.11.3"
  },
  "orig_nbformat": 4
 },
 "nbformat": 4,
 "nbformat_minor": 2
}
