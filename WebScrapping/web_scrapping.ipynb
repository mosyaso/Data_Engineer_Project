{
 "cells": [
  {
   "cell_type": "code",
   "execution_count": 3,
   "metadata": {},
   "outputs": [],
   "source": [
    "import pandas as pd\n",
    "from bs4 import BeautifulSoup\n",
    "from selenium import webdriver\n",
    "from selenium.webdriver.chrome.options import Options"
   ]
  },
  {
   "cell_type": "code",
   "execution_count": 5,
   "metadata": {},
   "outputs": [
    {
     "name": "stderr",
     "output_type": "stream",
     "text": [
      "C:\\Users\\syakir1937\\AppData\\Local\\Temp\\ipykernel_24100\\4042212539.py:13: DeprecationWarning: executable_path has been deprecated, please pass in a Service object\n",
      "  driver = webdriver.Chrome(executable_path= path, options=chrome_options)\n"
     ]
    }
   ],
   "source": [
    "#Link Digimap\n",
    "#main_link = 'https://shopee.co.id/shop/255563049/search'\n",
    "main_link = 'https://shopee.com.my/miya_gadget?categoryId=100013&entryPoint=ShopByPDP&itemId=21522121109&upstream=search'\n",
    "path = r'C:\\Users\\syakir1937\\Task Scheduler\\Learn Programming\\chromedriver.exe'\n",
    "\n",
    "#Customize chrome display\n",
    "chrome_options = Options()\n",
    "chrome_options.add_argument('--no-sandbox')\n",
    "#chrome_options.add_argument('--headless')\n",
    "chrome_options.add_argument('disable-notifications')\n",
    "chrome_options.add_argument('--disable-infobars')\n",
    "\n",
    "driver = webdriver.Chrome(executable_path= path, options=chrome_options)\n",
    "driver.get(main_link)"
   ]
  },
  {
   "cell_type": "code",
   "execution_count": 6,
   "metadata": {},
   "outputs": [],
   "source": [
    "html = driver.execute_script(\"return document.getElementsByTagName('html')[0].innerHTML\")\n",
    "soup = BeautifulSoup(html,\"html.parser\")"
   ]
  },
  {
   "cell_type": "code",
   "execution_count": 7,
   "metadata": {},
   "outputs": [
    {
     "data": {
      "text/plain": [
       "'Vivo Y19 (8GB + 128GB ROM) 6.53 Inch 16MP Triper Camera LTE (New) Full Set With 1 Year Warranty Original SmartPhones'"
      ]
     },
     "execution_count": 7,
     "metadata": {},
     "output_type": "execute_result"
    }
   ],
   "source": [
    "#Product Name\n",
    "product_name = soup.findAll('div', class_='_89o+uF mC2b-a d-wZla')\n",
    "product_name[0].get_text()"
   ]
  },
  {
   "cell_type": "code",
   "execution_count": 8,
   "metadata": {},
   "outputs": [
    {
     "data": {
      "text/plain": [
       "'RM398.00'"
      ]
     },
     "execution_count": 8,
     "metadata": {},
     "output_type": "execute_result"
    }
   ],
   "source": [
    "#Product Price\n",
    "product_price = soup.findAll('div', class_='_1cMhqd tdQs-h')\n",
    "product_price[0].get_text()\n"
   ]
  },
  {
   "cell_type": "code",
   "execution_count": 9,
   "metadata": {},
   "outputs": [
    {
     "data": {
      "text/plain": [
       "'765 sold'"
      ]
     },
     "execution_count": 9,
     "metadata": {},
     "output_type": "execute_result"
    }
   ],
   "source": [
    "#Total sold products/month\n",
    "product_sold = soup.findAll('div', class_='r4l-mr R9rrSp')\n",
    "product_sold[0].get_text()"
   ]
  },
  {
   "cell_type": "code",
   "execution_count": 10,
   "metadata": {},
   "outputs": [],
   "source": [
    "#Looping\n",
    "product_name, product_price, product_sold = [], [], []\n",
    "\n",
    "#Product Name\n",
    "for i in soup.findAll('div', class_='_89o+uF mC2b-a d-wZla'):\n",
    "    product_name.append(i.text)\n",
    "\n",
    "#Product Price\n",
    "for i in soup.findAll('div', class_='_1cMhqd tdQs-h'):\n",
    "    product_price.append(i.text)\n",
    "\n",
    "#Total sold products/month\n",
    "for i in soup.findAll('div', class_='r4l-mr R9rrSp'):\n",
    "    product_sold.append(i.text)"
   ]
  },
  {
   "cell_type": "code",
   "execution_count": 11,
   "metadata": {},
   "outputs": [],
   "source": [
    "#Many pages\n",
    "product_name, product_price, product_sold = [], [], []\n",
    "\n",
    "for page in range(0,2):\n",
    "    #main_link= 'https://shopee.co.id/shop/255563049/search?page={}&sortBy=pop'.format(page)\n",
    "    main_link= 'https://shopee.com.my/miya_gadget?categoryId=100013&itemId=21522121109&page={}&sortBy=pop&upstream=search'.format(page)\n",
    "    driver.get(main_link)\n",
    "\n",
    "    #Product Name\n",
    "    for i in soup.findAll('div', class_='_89o+uF mC2b-a d-wZla'):\n",
    "        product_name.append(i.text)\n",
    "\n",
    "    #Product Price\n",
    "    for i in soup.findAll('div', class_='_1cMhqd tdQs-h'):\n",
    "        product_price.append(i.text)\n",
    "\n",
    "    #Total sold products/month\n",
    "    for i in soup.findAll('div', class_='r4l-mr R9rrSp'):\n",
    "        product_sold.append(i.text)"
   ]
  },
  {
   "cell_type": "code",
   "execution_count": 12,
   "metadata": {},
   "outputs": [
    {
     "data": {
      "text/plain": [
       "80"
      ]
     },
     "execution_count": 12,
     "metadata": {},
     "output_type": "execute_result"
    }
   ],
   "source": [
    "len(product_name)"
   ]
  },
  {
   "cell_type": "code",
   "execution_count": 13,
   "metadata": {},
   "outputs": [],
   "source": [
    "#Save Data\n",
    "listCols = ['product_name','product_price','product_sold']\n",
    "dict_data = dict(zip(\n",
    "            listCols,\n",
    "                (product_name,\n",
    "                 product_price,\n",
    "                 product_sold)\n",
    "))"
   ]
  },
  {
   "cell_type": "code",
   "execution_count": 14,
   "metadata": {},
   "outputs": [],
   "source": [
    "import json \n",
    "with open('digimap.json','w') as fp:\n",
    "    json.dump(dict_data, fp)"
   ]
  },
  {
   "cell_type": "code",
   "execution_count": 16,
   "metadata": {},
   "outputs": [],
   "source": [
    "# if length are not equal\n",
    "max_length = max(len(product_price), len(product_sold))\n",
    "\n",
    "product_price += [None] * (max_length - len(product_price))\n",
    "product_sold += [None] * (max_length - len(product_sold))"
   ]
  },
  {
   "cell_type": "code",
   "execution_count": 17,
   "metadata": {},
   "outputs": [
    {
     "name": "stdout",
     "output_type": "stream",
     "text": [
      "80 80 80\n"
     ]
    }
   ],
   "source": [
    "print(len(product_name), len(product_price), len(product_sold))"
   ]
  },
  {
   "cell_type": "code",
   "execution_count": 18,
   "metadata": {},
   "outputs": [
    {
     "data": {
      "text/html": [
       "<div>\n",
       "<style scoped>\n",
       "    .dataframe tbody tr th:only-of-type {\n",
       "        vertical-align: middle;\n",
       "    }\n",
       "\n",
       "    .dataframe tbody tr th {\n",
       "        vertical-align: top;\n",
       "    }\n",
       "\n",
       "    .dataframe thead th {\n",
       "        text-align: right;\n",
       "    }\n",
       "</style>\n",
       "<table border=\"1\" class=\"dataframe\">\n",
       "  <thead>\n",
       "    <tr style=\"text-align: right;\">\n",
       "      <th></th>\n",
       "      <th>product_name</th>\n",
       "      <th>product_price</th>\n",
       "      <th>product_sold</th>\n",
       "    </tr>\n",
       "  </thead>\n",
       "  <tbody>\n",
       "    <tr>\n",
       "      <th>0</th>\n",
       "      <td>Vivo Y19 (8GB + 128GB ROM) 6.53 Inch 16MP Trip...</td>\n",
       "      <td>RM398.00</td>\n",
       "      <td>765 sold</td>\n",
       "    </tr>\n",
       "    <tr>\n",
       "      <th>1</th>\n",
       "      <td>Vivo Y17 6GB RAM + 128GB ROM 6.35 Inch 13MP LT...</td>\n",
       "      <td>RM353.00</td>\n",
       "      <td>848 sold</td>\n",
       "    </tr>\n",
       "    <tr>\n",
       "      <th>2</th>\n",
       "      <td>Vivo Y50 8GB RAM + 128GB ROM 6.53 Inches 13MP ...</td>\n",
       "      <td>RM445.00</td>\n",
       "      <td>38 sold</td>\n",
       "    </tr>\n",
       "    <tr>\n",
       "      <th>3</th>\n",
       "      <td>Vivo V15 8GB RAM + 256GB ROM 6.53 Inch 24MP Tr...</td>\n",
       "      <td>RM415.00</td>\n",
       "      <td>40 sold</td>\n",
       "    </tr>\n",
       "    <tr>\n",
       "      <th>4</th>\n",
       "      <td>Oppo A3s 4GB RAM + 64GB ROM 6.2 Inch 13MP LTE ...</td>\n",
       "      <td>RM267.00</td>\n",
       "      <td>230 sold</td>\n",
       "    </tr>\n",
       "  </tbody>\n",
       "</table>\n",
       "</div>"
      ],
      "text/plain": [
       "                                        product_name product_price   \n",
       "0  Vivo Y19 (8GB + 128GB ROM) 6.53 Inch 16MP Trip...      RM398.00  \\\n",
       "1  Vivo Y17 6GB RAM + 128GB ROM 6.35 Inch 13MP LT...      RM353.00   \n",
       "2  Vivo Y50 8GB RAM + 128GB ROM 6.53 Inches 13MP ...      RM445.00   \n",
       "3  Vivo V15 8GB RAM + 256GB ROM 6.53 Inch 24MP Tr...      RM415.00   \n",
       "4  Oppo A3s 4GB RAM + 64GB ROM 6.2 Inch 13MP LTE ...      RM267.00   \n",
       "\n",
       "  product_sold  \n",
       "0     765 sold  \n",
       "1     848 sold  \n",
       "2      38 sold  \n",
       "3      40 sold  \n",
       "4     230 sold  "
      ]
     },
     "execution_count": 18,
     "metadata": {},
     "output_type": "execute_result"
    }
   ],
   "source": [
    "df = pd.DataFrame(data = dict_data)\n",
    "df.head()"
   ]
  },
  {
   "cell_type": "code",
   "execution_count": 19,
   "metadata": {},
   "outputs": [],
   "source": [
    "df.to_csv('digimap.csv',index=False)"
   ]
  },
  {
   "attachments": {},
   "cell_type": "markdown",
   "metadata": {},
   "source": [
    "##USING API"
   ]
  },
  {
   "cell_type": "code",
   "execution_count": 1,
   "metadata": {},
   "outputs": [],
   "source": [
    "import requests"
   ]
  },
  {
   "cell_type": "code",
   "execution_count": 20,
   "metadata": {},
   "outputs": [
    {
     "ename": "KeyError",
     "evalue": "'items'",
     "output_type": "error",
     "traceback": [
      "\u001b[1;31m---------------------------------------------------------------------------\u001b[0m",
      "\u001b[1;31mKeyError\u001b[0m                                  Traceback (most recent call last)",
      "Cell \u001b[1;32mIn[20], line 18\u001b[0m\n\u001b[0;32m     16\u001b[0m \u001b[39m#Scraping\u001b[39;00m\n\u001b[0;32m     17\u001b[0m col_list, price_list, sold_list \u001b[39m=\u001b[39m [], [], []\n\u001b[1;32m---> 18\u001b[0m \u001b[39mfor\u001b[39;00m item \u001b[39min\u001b[39;00m r[\u001b[39m'\u001b[39;49m\u001b[39mitems\u001b[39;49m\u001b[39m'\u001b[39;49m]:\n\u001b[0;32m     19\u001b[0m     col_list\u001b[39m.\u001b[39mappend(item[\u001b[39m'\u001b[39m\u001b[39mitem_basic\u001b[39m\u001b[39m'\u001b[39m][\u001b[39m'\u001b[39m\u001b[39mname\u001b[39m\u001b[39m'\u001b[39m])\n\u001b[0;32m     20\u001b[0m     price_list\u001b[39m.\u001b[39mappend(item[\u001b[39m'\u001b[39m\u001b[39mitem_basic\u001b[39m\u001b[39m'\u001b[39m][\u001b[39m'\u001b[39m\u001b[39mprice\u001b[39m\u001b[39m'\u001b[39m])\n",
      "\u001b[1;31mKeyError\u001b[0m: 'items'"
     ]
    }
   ],
   "source": [
    "#shopee_url = 'https://shopee.co.id'\n",
    "shopee_url = 'https://shopee.com.my'\n",
    "keyword = 'Vivo'\n",
    "\n",
    "header = {\n",
    "    'User-Agent' : 'Chrome',\n",
    "    'Referer' : '{}search?keyword={}'.format(shopee_url, keyword)\n",
    "}\n",
    "\n",
    "#url = 'https://shopee.co.id/api/v4/search/search_items?by=revelancy&keyword={}&limit=60&newest=0&order=desc&page_type=search&scenario=PAGE_GLOBAL_SEARCH&version=2'.format(keyword)\n",
    "url = 'https://shopee.com.my/api/v4/search/search_items?by=relevancy&extra_params=%7B%22global_search_session_id%22%3A%22gs-b11c8e7a-061f-4399-8203-9dcbb23ce79e%22%2C%22search_session_id%22%3A%22ss-9553b7e8-b1d7-4ece-a190-3f37ec9350e8%22%7D&keyword={}&limit=60&match_id=285083792&newest=0&order=desc&page_type=shop&scenario=PAGE_SHOP_SEARCH&version=2&view_session_id=76f1a5e2-cf5a-4800-a566-d88d647611f9'.format(keyword)\n",
    "\n",
    "#API request\n",
    "r = requests.get(url, headers= header).json()\n",
    "\n",
    "#Scraping\n",
    "col_list, price_list, sold_list = [], [], []\n",
    "for item in r['items']:\n",
    "    col_list.append(item['item_basic']['name'])\n",
    "    price_list.append(item['item_basic']['price'])\n",
    "    sold_list.append(item['item_basic']['sold'])"
   ]
  }
 ],
 "metadata": {
  "kernelspec": {
   "display_name": "Python 3",
   "language": "python",
   "name": "python3"
  },
  "language_info": {
   "codemirror_mode": {
    "name": "ipython",
    "version": 3
   },
   "file_extension": ".py",
   "mimetype": "text/x-python",
   "name": "python",
   "nbconvert_exporter": "python",
   "pygments_lexer": "ipython3",
   "version": "3.11.3"
  },
  "orig_nbformat": 4
 },
 "nbformat": 4,
 "nbformat_minor": 2
}
